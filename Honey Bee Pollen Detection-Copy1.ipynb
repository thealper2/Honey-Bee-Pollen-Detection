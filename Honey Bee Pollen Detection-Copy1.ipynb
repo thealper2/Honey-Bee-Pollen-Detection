{
 "cells": [
  {
   "cell_type": "code",
   "execution_count": 48,
   "id": "4cbc0d7f",
   "metadata": {},
   "outputs": [],
   "source": [
    "import numpy as np\n",
    "import pandas as pd\n",
    "import matplotlib.pyplot as plt\n",
    "import cv2\n",
    "import tensorflow as tf\n",
    "from sklearn.model_selection import train_test_split\n",
    "from tensorflow.keras.preprocessing.image import ImageDataGenerator\n",
    "from tensorflow.keras.applications import MobileNetV2\n",
    "from tensorflow.keras.layers import Dense, GlobalAveragePooling2D\n",
    "from tensorflow.keras.models import Model\n",
    "from tensorflow.keras.callbacks import EarlyStopping"
   ]
  },
  {
   "cell_type": "code",
   "execution_count": 28,
   "id": "bacc675d",
   "metadata": {},
   "outputs": [],
   "source": [
    "df = pd.read_csv(\"PollenDataset/pollen_data.csv\")"
   ]
  },
  {
   "cell_type": "code",
   "execution_count": 29,
   "id": "fc1892ea",
   "metadata": {},
   "outputs": [
    {
     "data": {
      "text/html": [
       "<div>\n",
       "<style scoped>\n",
       "    .dataframe tbody tr th:only-of-type {\n",
       "        vertical-align: middle;\n",
       "    }\n",
       "\n",
       "    .dataframe tbody tr th {\n",
       "        vertical-align: top;\n",
       "    }\n",
       "\n",
       "    .dataframe thead th {\n",
       "        text-align: right;\n",
       "    }\n",
       "</style>\n",
       "<table border=\"1\" class=\"dataframe\">\n",
       "  <thead>\n",
       "    <tr style=\"text-align: right;\">\n",
       "      <th></th>\n",
       "      <th>Unnamed: 0</th>\n",
       "      <th>filename</th>\n",
       "      <th>pollen_carrying</th>\n",
       "    </tr>\n",
       "  </thead>\n",
       "  <tbody>\n",
       "    <tr>\n",
       "      <th>0</th>\n",
       "      <td>0</td>\n",
       "      <td>P10057-125r.jpg</td>\n",
       "      <td>1</td>\n",
       "    </tr>\n",
       "    <tr>\n",
       "      <th>1</th>\n",
       "      <td>1</td>\n",
       "      <td>P57380-120r.jpg</td>\n",
       "      <td>1</td>\n",
       "    </tr>\n",
       "    <tr>\n",
       "      <th>2</th>\n",
       "      <td>2</td>\n",
       "      <td>NP63671-221r.jpg</td>\n",
       "      <td>0</td>\n",
       "    </tr>\n",
       "    <tr>\n",
       "      <th>3</th>\n",
       "      <td>3</td>\n",
       "      <td>NP53776-47r.jpg</td>\n",
       "      <td>0</td>\n",
       "    </tr>\n",
       "    <tr>\n",
       "      <th>4</th>\n",
       "      <td>4</td>\n",
       "      <td>NP13382-201r.jpg</td>\n",
       "      <td>0</td>\n",
       "    </tr>\n",
       "  </tbody>\n",
       "</table>\n",
       "</div>"
      ],
      "text/plain": [
       "   Unnamed: 0          filename  pollen_carrying\n",
       "0           0   P10057-125r.jpg                1\n",
       "1           1   P57380-120r.jpg                1\n",
       "2           2  NP63671-221r.jpg                0\n",
       "3           3   NP53776-47r.jpg                0\n",
       "4           4  NP13382-201r.jpg                0"
      ]
     },
     "execution_count": 29,
     "metadata": {},
     "output_type": "execute_result"
    }
   ],
   "source": [
    "df.head()"
   ]
  },
  {
   "cell_type": "code",
   "execution_count": 30,
   "id": "9712db88",
   "metadata": {},
   "outputs": [],
   "source": [
    "df.drop(\"Unnamed: 0\", axis=1, inplace=True)"
   ]
  },
  {
   "cell_type": "code",
   "execution_count": 31,
   "id": "0482ffa2",
   "metadata": {},
   "outputs": [
    {
     "data": {
      "text/plain": [
       "filename           0\n",
       "pollen_carrying    0\n",
       "dtype: int64"
      ]
     },
     "execution_count": 31,
     "metadata": {},
     "output_type": "execute_result"
    }
   ],
   "source": [
    "df.isnull().sum()"
   ]
  },
  {
   "cell_type": "code",
   "execution_count": 32,
   "id": "e3ea24ef",
   "metadata": {},
   "outputs": [
    {
     "name": "stdout",
     "output_type": "stream",
     "text": [
      "<class 'pandas.core.frame.DataFrame'>\n",
      "RangeIndex: 714 entries, 0 to 713\n",
      "Data columns (total 2 columns):\n",
      " #   Column           Non-Null Count  Dtype \n",
      "---  ------           --------------  ----- \n",
      " 0   filename         714 non-null    object\n",
      " 1   pollen_carrying  714 non-null    int64 \n",
      "dtypes: int64(1), object(1)\n",
      "memory usage: 11.3+ KB\n"
     ]
    }
   ],
   "source": [
    "df.info()"
   ]
  },
  {
   "cell_type": "code",
   "execution_count": 33,
   "id": "2917ca0d",
   "metadata": {},
   "outputs": [],
   "source": [
    "def image_path(image):\n",
    "    return f\"PollenDataset/images/{image}\""
   ]
  },
  {
   "cell_type": "code",
   "execution_count": 34,
   "id": "c645b844",
   "metadata": {},
   "outputs": [],
   "source": [
    "df[\"filename\"] = df[\"filename\"].apply(image_path)"
   ]
  },
  {
   "cell_type": "code",
   "execution_count": 35,
   "id": "9a3f28bd",
   "metadata": {},
   "outputs": [],
   "source": [
    "df[\"pollen_carrying\"] = df[\"pollen_carrying\"].map({\n",
    "    0: \"NO POLLEN\", 1: \"POLLEN\"\n",
    "})"
   ]
  },
  {
   "cell_type": "code",
   "execution_count": 36,
   "id": "7f5fb63d",
   "metadata": {},
   "outputs": [
    {
     "data": {
      "text/html": [
       "<div>\n",
       "<style scoped>\n",
       "    .dataframe tbody tr th:only-of-type {\n",
       "        vertical-align: middle;\n",
       "    }\n",
       "\n",
       "    .dataframe tbody tr th {\n",
       "        vertical-align: top;\n",
       "    }\n",
       "\n",
       "    .dataframe thead th {\n",
       "        text-align: right;\n",
       "    }\n",
       "</style>\n",
       "<table border=\"1\" class=\"dataframe\">\n",
       "  <thead>\n",
       "    <tr style=\"text-align: right;\">\n",
       "      <th></th>\n",
       "      <th>filename</th>\n",
       "      <th>pollen_carrying</th>\n",
       "    </tr>\n",
       "  </thead>\n",
       "  <tbody>\n",
       "    <tr>\n",
       "      <th>0</th>\n",
       "      <td>PollenDataset/images/P10057-125r.jpg</td>\n",
       "      <td>POLLEN</td>\n",
       "    </tr>\n",
       "    <tr>\n",
       "      <th>1</th>\n",
       "      <td>PollenDataset/images/P57380-120r.jpg</td>\n",
       "      <td>POLLEN</td>\n",
       "    </tr>\n",
       "    <tr>\n",
       "      <th>2</th>\n",
       "      <td>PollenDataset/images/NP63671-221r.jpg</td>\n",
       "      <td>NO POLLEN</td>\n",
       "    </tr>\n",
       "    <tr>\n",
       "      <th>3</th>\n",
       "      <td>PollenDataset/images/NP53776-47r.jpg</td>\n",
       "      <td>NO POLLEN</td>\n",
       "    </tr>\n",
       "    <tr>\n",
       "      <th>4</th>\n",
       "      <td>PollenDataset/images/NP13382-201r.jpg</td>\n",
       "      <td>NO POLLEN</td>\n",
       "    </tr>\n",
       "  </tbody>\n",
       "</table>\n",
       "</div>"
      ],
      "text/plain": [
       "                                filename pollen_carrying\n",
       "0   PollenDataset/images/P10057-125r.jpg          POLLEN\n",
       "1   PollenDataset/images/P57380-120r.jpg          POLLEN\n",
       "2  PollenDataset/images/NP63671-221r.jpg       NO POLLEN\n",
       "3   PollenDataset/images/NP53776-47r.jpg       NO POLLEN\n",
       "4  PollenDataset/images/NP13382-201r.jpg       NO POLLEN"
      ]
     },
     "execution_count": 36,
     "metadata": {},
     "output_type": "execute_result"
    }
   ],
   "source": [
    "df.head()"
   ]
  },
  {
   "cell_type": "code",
   "execution_count": 37,
   "id": "334f4127",
   "metadata": {},
   "outputs": [],
   "source": [
    "train_df, test_df = train_test_split(df, test_size=0.3, random_state=4242)"
   ]
  },
  {
   "cell_type": "code",
   "execution_count": 38,
   "id": "7dd8435e",
   "metadata": {},
   "outputs": [],
   "source": [
    "data = []\n",
    "label = []\n",
    "\n",
    "images = df[\"filename\"].values.tolist()"
   ]
  },
  {
   "cell_type": "code",
   "execution_count": 39,
   "id": "201b8674",
   "metadata": {},
   "outputs": [],
   "source": [
    "for i, file in enumerate(images):\n",
    "    img = cv2.imread(file)\n",
    "    img = cv2.resize(img, (224, 224))\n",
    "    \n",
    "    data.append(img)"
   ]
  },
  {
   "cell_type": "code",
   "execution_count": 40,
   "id": "1349a8cc",
   "metadata": {},
   "outputs": [],
   "source": [
    "label = df[\"pollen_carrying\"].values.tolist()"
   ]
  },
  {
   "cell_type": "code",
   "execution_count": 41,
   "id": "c568b619",
   "metadata": {},
   "outputs": [
    {
     "data": {
      "text/plain": [
       "714"
      ]
     },
     "execution_count": 41,
     "metadata": {},
     "output_type": "execute_result"
    }
   ],
   "source": [
    "len(data)"
   ]
  },
  {
   "cell_type": "code",
   "execution_count": 42,
   "id": "5d4d4aa6",
   "metadata": {},
   "outputs": [
    {
     "data": {
      "text/plain": [
       "714"
      ]
     },
     "execution_count": 42,
     "metadata": {},
     "output_type": "execute_result"
    }
   ],
   "source": [
    "len(label)"
   ]
  },
  {
   "cell_type": "code",
   "execution_count": 43,
   "id": "e8147b64",
   "metadata": {},
   "outputs": [
    {
     "name": "stdout",
     "output_type": "stream",
     "text": [
      "Found 350 validated image filenames belonging to 2 classes.\n",
      "Found 149 validated image filenames belonging to 2 classes.\n",
      "Found 215 validated image filenames belonging to 2 classes.\n"
     ]
    }
   ],
   "source": [
    "train_datagen = ImageDataGenerator(\n",
    "    rescale=1./255,\n",
    "    validation_split=0.3\n",
    ")\n",
    "\n",
    "train_generator = train_datagen.flow_from_dataframe(\n",
    "    dataframe=train_df,\n",
    "    x_col=\"filename\",\n",
    "    y_col=\"pollen_carrying\",\n",
    "    target_size=(224, 224),\n",
    "    class_mode=\"categorical\",\n",
    "    batch_size=32,\n",
    "    subset=\"training\"\n",
    ")\n",
    "\n",
    "valid_datagen = ImageDataGenerator(\n",
    "    rescale=1./255,\n",
    "    validation_split=0.3\n",
    ")\n",
    "\n",
    "valid_generator = valid_datagen.flow_from_dataframe(\n",
    "    dataframe=train_df,\n",
    "    x_col=\"filename\",\n",
    "    y_col=\"pollen_carrying\",\n",
    "    target_size=(224, 224),\n",
    "    class_mode=\"categorical\",\n",
    "    batch_size=32,\n",
    "    subset=\"validation\"\n",
    ")\n",
    "\n",
    "test_datagen = ImageDataGenerator(\n",
    "    rescale=1./255\n",
    ")\n",
    "\n",
    "test_generator = test_datagen.flow_from_dataframe(\n",
    "    dataframe=test_df,\n",
    "    x_col=\"filename\",\n",
    "    y_col=\"pollen_carrying\",\n",
    "    target_size=(224, 224),\n",
    "    class_mode=\"categorical\",\n",
    "    batch_size=32,\n",
    ")"
   ]
  },
  {
   "cell_type": "code",
   "execution_count": 45,
   "id": "9be06f35",
   "metadata": {},
   "outputs": [],
   "source": [
    "base_model = MobileNetV2(weights='imagenet', include_top=False, input_shape=(224, 224, 3))\n",
    "\n",
    "for layer in base_model.layers:\n",
    "    layer.trainable = False"
   ]
  },
  {
   "cell_type": "code",
   "execution_count": 46,
   "id": "6523ddd4",
   "metadata": {},
   "outputs": [],
   "source": [
    "x = base_model.output\n",
    "x = GlobalAveragePooling2D()(x)\n",
    "x = Dense(1024, activation='relu')(x)\n",
    "predictions = Dense(2, activation='softmax')(x)\n",
    "\n",
    "model = Model(inputs=base_model.input, outputs=predictions)"
   ]
  },
  {
   "cell_type": "code",
   "execution_count": 47,
   "id": "53dd8e21",
   "metadata": {},
   "outputs": [],
   "source": [
    "model.compile(optimizer='adam', loss='categorical_crossentropy', metrics=['accuracy'])"
   ]
  },
  {
   "cell_type": "code",
   "execution_count": 49,
   "id": "90188894",
   "metadata": {},
   "outputs": [],
   "source": [
    "callbacks = EarlyStopping(monitor=\"val_loss\", patience=5, restore_best_weights=True)"
   ]
  },
  {
   "cell_type": "code",
   "execution_count": 52,
   "id": "4a624ca6",
   "metadata": {},
   "outputs": [
    {
     "name": "stdout",
     "output_type": "stream",
     "text": [
      "Epoch 1/100\n"
     ]
    },
    {
     "name": "stderr",
     "output_type": "stream",
     "text": [
      "2023-06-01 18:45:07.989323: I tensorflow/core/common_runtime/executor.cc:1197] [/device:CPU:0] (DEBUG INFO) Executor start aborting (this does not indicate an error and you can ignore this message): INVALID_ARGUMENT: You must feed a value for placeholder tensor 'Placeholder/_0' with dtype int32\n",
      "\t [[{{node Placeholder/_0}}]]\n"
     ]
    },
    {
     "name": "stdout",
     "output_type": "stream",
     "text": [
      "10/10 [==============================] - ETA: 0s - loss: 1.5124 - accuracy: 0.5535"
     ]
    },
    {
     "name": "stderr",
     "output_type": "stream",
     "text": [
      "2023-06-01 18:45:15.339755: I tensorflow/core/common_runtime/executor.cc:1197] [/device:CPU:0] (DEBUG INFO) Executor start aborting (this does not indicate an error and you can ignore this message): INVALID_ARGUMENT: You must feed a value for placeholder tensor 'Placeholder/_0' with dtype int32\n",
      "\t [[{{node Placeholder/_0}}]]\n"
     ]
    },
    {
     "name": "stdout",
     "output_type": "stream",
     "text": [
      "10/10 [==============================] - 10s 716ms/step - loss: 1.5124 - accuracy: 0.5535 - val_loss: 0.9848 - val_accuracy: 0.7188\n",
      "Epoch 2/100\n",
      "10/10 [==============================] - 6s 639ms/step - loss: 0.3672 - accuracy: 0.8428 - val_loss: 0.3425 - val_accuracy: 0.8281\n",
      "Epoch 3/100\n",
      "10/10 [==============================] - 6s 652ms/step - loss: 0.2158 - accuracy: 0.9088 - val_loss: 0.4849 - val_accuracy: 0.7969\n",
      "Epoch 4/100\n",
      "10/10 [==============================] - 7s 715ms/step - loss: 0.1521 - accuracy: 0.9403 - val_loss: 0.4500 - val_accuracy: 0.8359\n",
      "Epoch 5/100\n",
      "10/10 [==============================] - 6s 650ms/step - loss: 0.1305 - accuracy: 0.9560 - val_loss: 0.3911 - val_accuracy: 0.8594\n",
      "Epoch 6/100\n",
      "10/10 [==============================] - 6s 643ms/step - loss: 0.0799 - accuracy: 0.9780 - val_loss: 0.3796 - val_accuracy: 0.8672\n",
      "Epoch 7/100\n",
      "10/10 [==============================] - 6s 658ms/step - loss: 0.0608 - accuracy: 0.9937 - val_loss: 0.4229 - val_accuracy: 0.8594\n",
      "Epoch 8/100\n",
      "10/10 [==============================] - 6s 626ms/step - loss: 0.0587 - accuracy: 0.9937 - val_loss: 0.4150 - val_accuracy: 0.8359\n",
      "Epoch 9/100\n",
      "10/10 [==============================] - 7s 700ms/step - loss: 0.0415 - accuracy: 0.9937 - val_loss: 0.3677 - val_accuracy: 0.8750\n",
      "Epoch 10/100\n",
      "10/10 [==============================] - 6s 663ms/step - loss: 0.0380 - accuracy: 0.9969 - val_loss: 0.3893 - val_accuracy: 0.8672\n",
      "Epoch 11/100\n",
      "10/10 [==============================] - 6s 600ms/step - loss: 0.0324 - accuracy: 0.9969 - val_loss: 0.3751 - val_accuracy: 0.8672\n",
      "Epoch 12/100\n",
      "10/10 [==============================] - 6s 603ms/step - loss: 0.0251 - accuracy: 1.0000 - val_loss: 0.4505 - val_accuracy: 0.8438\n",
      "Epoch 13/100\n",
      "10/10 [==============================] - 6s 598ms/step - loss: 0.0205 - accuracy: 1.0000 - val_loss: 0.4427 - val_accuracy: 0.8672\n",
      "Epoch 14/100\n",
      "10/10 [==============================] - 6s 594ms/step - loss: 0.0188 - accuracy: 1.0000 - val_loss: 0.4680 - val_accuracy: 0.8516\n",
      "Epoch 15/100\n",
      "10/10 [==============================] - 6s 610ms/step - loss: 0.0139 - accuracy: 1.0000 - val_loss: 0.4044 - val_accuracy: 0.8672\n",
      "Epoch 16/100\n",
      "10/10 [==============================] - 6s 590ms/step - loss: 0.0120 - accuracy: 1.0000 - val_loss: 0.4353 - val_accuracy: 0.8594\n",
      "Epoch 17/100\n",
      "10/10 [==============================] - 6s 593ms/step - loss: 0.0095 - accuracy: 1.0000 - val_loss: 0.4841 - val_accuracy: 0.8516\n",
      "Epoch 18/100\n",
      "10/10 [==============================] - 6s 598ms/step - loss: 0.0096 - accuracy: 1.0000 - val_loss: 0.4613 - val_accuracy: 0.8516\n",
      "Epoch 19/100\n",
      "10/10 [==============================] - 6s 593ms/step - loss: 0.0082 - accuracy: 1.0000 - val_loss: 0.4387 - val_accuracy: 0.8750\n",
      "Epoch 20/100\n",
      "10/10 [==============================] - 6s 596ms/step - loss: 0.0094 - accuracy: 1.0000 - val_loss: 0.4405 - val_accuracy: 0.8828\n",
      "Epoch 21/100\n",
      "10/10 [==============================] - 6s 588ms/step - loss: 0.0061 - accuracy: 1.0000 - val_loss: 0.5044 - val_accuracy: 0.8516\n",
      "Epoch 22/100\n",
      "10/10 [==============================] - 6s 595ms/step - loss: 0.0050 - accuracy: 1.0000 - val_loss: 0.5223 - val_accuracy: 0.8516\n",
      "Epoch 23/100\n",
      "10/10 [==============================] - 6s 590ms/step - loss: 0.0045 - accuracy: 1.0000 - val_loss: 0.4266 - val_accuracy: 0.8828\n",
      "Epoch 24/100\n",
      "10/10 [==============================] - 6s 590ms/step - loss: 0.0041 - accuracy: 1.0000 - val_loss: 0.4809 - val_accuracy: 0.8828\n",
      "Epoch 25/100\n",
      "10/10 [==============================] - 6s 588ms/step - loss: 0.0034 - accuracy: 1.0000 - val_loss: 0.3371 - val_accuracy: 0.9062\n",
      "Epoch 26/100\n",
      "10/10 [==============================] - 6s 593ms/step - loss: 0.0035 - accuracy: 1.0000 - val_loss: 0.5329 - val_accuracy: 0.8594\n",
      "Epoch 27/100\n",
      "10/10 [==============================] - 6s 590ms/step - loss: 0.0031 - accuracy: 1.0000 - val_loss: 0.5788 - val_accuracy: 0.8438\n",
      "Epoch 28/100\n",
      "10/10 [==============================] - 6s 594ms/step - loss: 0.0026 - accuracy: 1.0000 - val_loss: 0.4367 - val_accuracy: 0.8906\n",
      "Epoch 29/100\n",
      "10/10 [==============================] - 6s 595ms/step - loss: 0.0026 - accuracy: 1.0000 - val_loss: 0.4287 - val_accuracy: 0.8750\n",
      "Epoch 30/100\n",
      "10/10 [==============================] - 6s 603ms/step - loss: 0.0023 - accuracy: 1.0000 - val_loss: 0.5603 - val_accuracy: 0.8750\n",
      "Epoch 31/100\n",
      "10/10 [==============================] - 6s 590ms/step - loss: 0.0022 - accuracy: 1.0000 - val_loss: 0.5100 - val_accuracy: 0.8750\n",
      "Epoch 32/100\n",
      "10/10 [==============================] - 6s 595ms/step - loss: 0.0019 - accuracy: 1.0000 - val_loss: 0.5761 - val_accuracy: 0.8594\n",
      "Epoch 33/100\n",
      "10/10 [==============================] - 6s 589ms/step - loss: 0.0017 - accuracy: 1.0000 - val_loss: 0.5252 - val_accuracy: 0.8594\n",
      "Epoch 34/100\n",
      "10/10 [==============================] - 6s 592ms/step - loss: 0.0016 - accuracy: 1.0000 - val_loss: 0.4957 - val_accuracy: 0.8750\n",
      "Epoch 35/100\n",
      "10/10 [==============================] - 6s 589ms/step - loss: 0.0014 - accuracy: 1.0000 - val_loss: 0.5874 - val_accuracy: 0.8516\n",
      "Epoch 36/100\n",
      "10/10 [==============================] - 6s 595ms/step - loss: 0.0014 - accuracy: 1.0000 - val_loss: 0.5420 - val_accuracy: 0.8828\n",
      "Epoch 37/100\n",
      "10/10 [==============================] - 6s 589ms/step - loss: 0.0013 - accuracy: 1.0000 - val_loss: 0.4814 - val_accuracy: 0.8750\n",
      "Epoch 38/100\n",
      "10/10 [==============================] - 6s 593ms/step - loss: 0.0012 - accuracy: 1.0000 - val_loss: 0.5527 - val_accuracy: 0.8594\n",
      "Epoch 39/100\n",
      "10/10 [==============================] - 6s 596ms/step - loss: 0.0011 - accuracy: 1.0000 - val_loss: 0.5305 - val_accuracy: 0.8828\n",
      "Epoch 40/100\n",
      "10/10 [==============================] - 6s 592ms/step - loss: 0.0011 - accuracy: 1.0000 - val_loss: 0.5369 - val_accuracy: 0.8672\n",
      "Epoch 41/100\n",
      "10/10 [==============================] - 6s 591ms/step - loss: 9.0191e-04 - accuracy: 1.0000 - val_loss: 0.5297 - val_accuracy: 0.8750\n",
      "Epoch 42/100\n",
      "10/10 [==============================] - 6s 595ms/step - loss: 9.0453e-04 - accuracy: 1.0000 - val_loss: 0.6030 - val_accuracy: 0.8828\n",
      "Epoch 43/100\n",
      "10/10 [==============================] - 6s 587ms/step - loss: 8.6654e-04 - accuracy: 1.0000 - val_loss: 0.5408 - val_accuracy: 0.8750\n",
      "Epoch 44/100\n",
      "10/10 [==============================] - 6s 611ms/step - loss: 7.4561e-04 - accuracy: 1.0000 - val_loss: 0.5392 - val_accuracy: 0.8750\n",
      "Epoch 45/100\n",
      "10/10 [==============================] - 6s 595ms/step - loss: 7.5397e-04 - accuracy: 1.0000 - val_loss: 0.4865 - val_accuracy: 0.8750\n",
      "Epoch 46/100\n",
      "10/10 [==============================] - 6s 587ms/step - loss: 6.7086e-04 - accuracy: 1.0000 - val_loss: 0.6064 - val_accuracy: 0.8594\n",
      "Epoch 47/100\n",
      "10/10 [==============================] - 6s 596ms/step - loss: 6.7777e-04 - accuracy: 1.0000 - val_loss: 0.6422 - val_accuracy: 0.8672\n",
      "Epoch 48/100\n",
      "10/10 [==============================] - 6s 593ms/step - loss: 6.0746e-04 - accuracy: 1.0000 - val_loss: 0.5510 - val_accuracy: 0.8672\n",
      "Epoch 49/100\n",
      "10/10 [==============================] - 6s 591ms/step - loss: 5.9583e-04 - accuracy: 1.0000 - val_loss: 0.6245 - val_accuracy: 0.8672\n",
      "Epoch 50/100\n",
      "10/10 [==============================] - 6s 591ms/step - loss: 5.2915e-04 - accuracy: 1.0000 - val_loss: 0.5553 - val_accuracy: 0.8750\n",
      "Epoch 51/100\n",
      "10/10 [==============================] - 6s 611ms/step - loss: 5.3726e-04 - accuracy: 1.0000 - val_loss: 0.6184 - val_accuracy: 0.8750\n",
      "Epoch 52/100\n",
      "10/10 [==============================] - 6s 591ms/step - loss: 4.6592e-04 - accuracy: 1.0000 - val_loss: 0.6248 - val_accuracy: 0.8828\n",
      "Epoch 53/100\n",
      "10/10 [==============================] - 6s 592ms/step - loss: 4.3314e-04 - accuracy: 1.0000 - val_loss: 0.6815 - val_accuracy: 0.8594\n",
      "Epoch 54/100\n",
      "10/10 [==============================] - 6s 592ms/step - loss: 4.4343e-04 - accuracy: 1.0000 - val_loss: 0.5007 - val_accuracy: 0.9062\n",
      "Epoch 55/100\n",
      "10/10 [==============================] - 6s 589ms/step - loss: 4.0136e-04 - accuracy: 1.0000 - val_loss: 0.6773 - val_accuracy: 0.8750\n",
      "Epoch 56/100\n",
      "10/10 [==============================] - 6s 596ms/step - loss: 3.9456e-04 - accuracy: 1.0000 - val_loss: 0.7089 - val_accuracy: 0.8594\n",
      "Epoch 57/100\n"
     ]
    },
    {
     "name": "stdout",
     "output_type": "stream",
     "text": [
      "10/10 [==============================] - 6s 588ms/step - loss: 3.5738e-04 - accuracy: 1.0000 - val_loss: 0.5572 - val_accuracy: 0.8750\n",
      "Epoch 58/100\n",
      "10/10 [==============================] - 6s 587ms/step - loss: 3.3559e-04 - accuracy: 1.0000 - val_loss: 0.6403 - val_accuracy: 0.8828\n",
      "Epoch 59/100\n",
      "10/10 [==============================] - 6s 589ms/step - loss: 3.2397e-04 - accuracy: 1.0000 - val_loss: 0.6130 - val_accuracy: 0.8750\n",
      "Epoch 60/100\n",
      "10/10 [==============================] - 6s 601ms/step - loss: 3.0079e-04 - accuracy: 1.0000 - val_loss: 0.5938 - val_accuracy: 0.8828\n",
      "Epoch 61/100\n",
      "10/10 [==============================] - 6s 590ms/step - loss: 3.0500e-04 - accuracy: 1.0000 - val_loss: 0.5644 - val_accuracy: 0.8750\n",
      "Epoch 62/100\n",
      "10/10 [==============================] - 6s 598ms/step - loss: 2.6998e-04 - accuracy: 1.0000 - val_loss: 0.6410 - val_accuracy: 0.8828\n",
      "Epoch 63/100\n",
      "10/10 [==============================] - 6s 599ms/step - loss: 2.4576e-04 - accuracy: 1.0000 - val_loss: 0.5963 - val_accuracy: 0.8750\n",
      "Epoch 64/100\n",
      "10/10 [==============================] - 6s 595ms/step - loss: 2.5172e-04 - accuracy: 1.0000 - val_loss: 0.6395 - val_accuracy: 0.8750\n",
      "Epoch 65/100\n",
      "10/10 [==============================] - 6s 593ms/step - loss: 2.5626e-04 - accuracy: 1.0000 - val_loss: 0.6585 - val_accuracy: 0.8750\n",
      "Epoch 66/100\n",
      "10/10 [==============================] - 6s 588ms/step - loss: 2.3398e-04 - accuracy: 1.0000 - val_loss: 0.6457 - val_accuracy: 0.8750\n",
      "Epoch 67/100\n",
      "10/10 [==============================] - 6s 586ms/step - loss: 2.3029e-04 - accuracy: 1.0000 - val_loss: 0.6636 - val_accuracy: 0.8750\n",
      "Epoch 68/100\n",
      "10/10 [==============================] - 6s 597ms/step - loss: 2.0650e-04 - accuracy: 1.0000 - val_loss: 0.6881 - val_accuracy: 0.8828\n",
      "Epoch 69/100\n",
      "10/10 [==============================] - 6s 610ms/step - loss: 2.1066e-04 - accuracy: 1.0000 - val_loss: 0.6962 - val_accuracy: 0.8672\n",
      "Epoch 70/100\n",
      "10/10 [==============================] - 6s 595ms/step - loss: 2.1774e-04 - accuracy: 1.0000 - val_loss: 0.6951 - val_accuracy: 0.8750\n",
      "Epoch 71/100\n",
      "10/10 [==============================] - 6s 594ms/step - loss: 1.8462e-04 - accuracy: 1.0000 - val_loss: 0.7569 - val_accuracy: 0.8594\n",
      "Epoch 72/100\n",
      "10/10 [==============================] - 6s 599ms/step - loss: 1.9040e-04 - accuracy: 1.0000 - val_loss: 0.7057 - val_accuracy: 0.8750\n",
      "Epoch 73/100\n",
      "10/10 [==============================] - 6s 582ms/step - loss: 1.7867e-04 - accuracy: 1.0000 - val_loss: 0.6323 - val_accuracy: 0.8750\n",
      "Epoch 74/100\n",
      "10/10 [==============================] - 7s 694ms/step - loss: 1.6451e-04 - accuracy: 1.0000 - val_loss: 0.4726 - val_accuracy: 0.9062\n",
      "Epoch 75/100\n",
      "10/10 [==============================] - 6s 591ms/step - loss: 1.7096e-04 - accuracy: 1.0000 - val_loss: 0.6407 - val_accuracy: 0.8828\n",
      "Epoch 76/100\n",
      "10/10 [==============================] - 6s 591ms/step - loss: 1.5978e-04 - accuracy: 1.0000 - val_loss: 0.6688 - val_accuracy: 0.8828\n",
      "Epoch 77/100\n",
      "10/10 [==============================] - 6s 588ms/step - loss: 1.6044e-04 - accuracy: 1.0000 - val_loss: 0.7000 - val_accuracy: 0.8828\n",
      "Epoch 78/100\n",
      "10/10 [==============================] - 6s 591ms/step - loss: 1.5120e-04 - accuracy: 1.0000 - val_loss: 0.7077 - val_accuracy: 0.8672\n",
      "Epoch 79/100\n",
      "10/10 [==============================] - 6s 595ms/step - loss: 1.3415e-04 - accuracy: 1.0000 - val_loss: 0.7446 - val_accuracy: 0.8672\n",
      "Epoch 80/100\n",
      "10/10 [==============================] - 6s 596ms/step - loss: 1.3022e-04 - accuracy: 1.0000 - val_loss: 0.6926 - val_accuracy: 0.8750\n",
      "Epoch 81/100\n",
      "10/10 [==============================] - 6s 594ms/step - loss: 1.2800e-04 - accuracy: 1.0000 - val_loss: 0.7573 - val_accuracy: 0.8672\n",
      "Epoch 82/100\n",
      "10/10 [==============================] - 6s 599ms/step - loss: 1.3086e-04 - accuracy: 1.0000 - val_loss: 0.6294 - val_accuracy: 0.8906\n",
      "Epoch 83/100\n",
      "10/10 [==============================] - 6s 584ms/step - loss: 1.2125e-04 - accuracy: 1.0000 - val_loss: 0.7068 - val_accuracy: 0.8828\n",
      "Epoch 84/100\n",
      "10/10 [==============================] - 6s 594ms/step - loss: 1.2142e-04 - accuracy: 1.0000 - val_loss: 0.7421 - val_accuracy: 0.8672\n",
      "Epoch 85/100\n",
      "10/10 [==============================] - 6s 596ms/step - loss: 1.1727e-04 - accuracy: 1.0000 - val_loss: 0.7366 - val_accuracy: 0.8750\n",
      "Epoch 86/100\n",
      "10/10 [==============================] - 6s 593ms/step - loss: 1.0816e-04 - accuracy: 1.0000 - val_loss: 0.7474 - val_accuracy: 0.8750\n",
      "Epoch 87/100\n",
      "10/10 [==============================] - 6s 601ms/step - loss: 1.0695e-04 - accuracy: 1.0000 - val_loss: 0.7471 - val_accuracy: 0.8594\n",
      "Epoch 88/100\n",
      "10/10 [==============================] - 6s 597ms/step - loss: 1.0613e-04 - accuracy: 1.0000 - val_loss: 0.6936 - val_accuracy: 0.8828\n",
      "Epoch 89/100\n",
      "10/10 [==============================] - 6s 592ms/step - loss: 1.0336e-04 - accuracy: 1.0000 - val_loss: 0.6810 - val_accuracy: 0.8672\n",
      "Epoch 90/100\n",
      "10/10 [==============================] - 6s 595ms/step - loss: 9.7759e-05 - accuracy: 1.0000 - val_loss: 0.5862 - val_accuracy: 0.8906\n",
      "Epoch 91/100\n",
      "10/10 [==============================] - 6s 599ms/step - loss: 9.6000e-05 - accuracy: 1.0000 - val_loss: 0.6387 - val_accuracy: 0.8906\n",
      "Epoch 92/100\n",
      "10/10 [==============================] - 6s 594ms/step - loss: 8.6560e-05 - accuracy: 1.0000 - val_loss: 0.6495 - val_accuracy: 0.8828\n",
      "Epoch 93/100\n",
      "10/10 [==============================] - 6s 592ms/step - loss: 9.2360e-05 - accuracy: 1.0000 - val_loss: 0.6781 - val_accuracy: 0.8750\n",
      "Epoch 94/100\n",
      "10/10 [==============================] - 6s 587ms/step - loss: 9.0701e-05 - accuracy: 1.0000 - val_loss: 0.7486 - val_accuracy: 0.8750\n",
      "Epoch 95/100\n",
      "10/10 [==============================] - 6s 595ms/step - loss: 8.8174e-05 - accuracy: 1.0000 - val_loss: 0.6830 - val_accuracy: 0.8672\n",
      "Epoch 96/100\n",
      "10/10 [==============================] - 6s 592ms/step - loss: 8.5934e-05 - accuracy: 1.0000 - val_loss: 0.7660 - val_accuracy: 0.8594\n",
      "Epoch 97/100\n",
      "10/10 [==============================] - 6s 592ms/step - loss: 8.0346e-05 - accuracy: 1.0000 - val_loss: 0.5875 - val_accuracy: 0.8984\n",
      "Epoch 98/100\n",
      "10/10 [==============================] - 6s 589ms/step - loss: 7.8955e-05 - accuracy: 1.0000 - val_loss: 0.7823 - val_accuracy: 0.8594\n",
      "Epoch 99/100\n",
      "10/10 [==============================] - 6s 607ms/step - loss: 7.7908e-05 - accuracy: 1.0000 - val_loss: 0.5247 - val_accuracy: 0.8906\n",
      "Epoch 100/100\n",
      "10/10 [==============================] - 6s 597ms/step - loss: 7.0786e-05 - accuracy: 1.0000 - val_loss: 0.6357 - val_accuracy: 0.8906\n"
     ]
    }
   ],
   "source": [
    "history = model.fit(\n",
    "    train_generator,\n",
    "    steps_per_epoch=train_generator.samples // train_generator.batch_size,\n",
    "    validation_data=valid_generator,\n",
    "    validation_steps=valid_generator.samples // valid_generator.batch_size,\n",
    "    epochs=100,\n",
    ")"
   ]
  },
  {
   "cell_type": "code",
   "execution_count": 53,
   "id": "30a30442",
   "metadata": {},
   "outputs": [
    {
     "data": {
      "text/html": [
       "<div>\n",
       "<style scoped>\n",
       "    .dataframe tbody tr th:only-of-type {\n",
       "        vertical-align: middle;\n",
       "    }\n",
       "\n",
       "    .dataframe tbody tr th {\n",
       "        vertical-align: top;\n",
       "    }\n",
       "\n",
       "    .dataframe thead th {\n",
       "        text-align: right;\n",
       "    }\n",
       "</style>\n",
       "<table border=\"1\" class=\"dataframe\">\n",
       "  <thead>\n",
       "    <tr style=\"text-align: right;\">\n",
       "      <th></th>\n",
       "      <th>loss</th>\n",
       "      <th>accuracy</th>\n",
       "      <th>val_loss</th>\n",
       "      <th>val_accuracy</th>\n",
       "    </tr>\n",
       "  </thead>\n",
       "  <tbody>\n",
       "    <tr>\n",
       "      <th>0</th>\n",
       "      <td>1.512404</td>\n",
       "      <td>0.553459</td>\n",
       "      <td>0.984845</td>\n",
       "      <td>0.718750</td>\n",
       "    </tr>\n",
       "    <tr>\n",
       "      <th>1</th>\n",
       "      <td>0.367206</td>\n",
       "      <td>0.842767</td>\n",
       "      <td>0.342473</td>\n",
       "      <td>0.828125</td>\n",
       "    </tr>\n",
       "    <tr>\n",
       "      <th>2</th>\n",
       "      <td>0.215768</td>\n",
       "      <td>0.908805</td>\n",
       "      <td>0.484924</td>\n",
       "      <td>0.796875</td>\n",
       "    </tr>\n",
       "    <tr>\n",
       "      <th>3</th>\n",
       "      <td>0.152109</td>\n",
       "      <td>0.940252</td>\n",
       "      <td>0.449987</td>\n",
       "      <td>0.835938</td>\n",
       "    </tr>\n",
       "    <tr>\n",
       "      <th>4</th>\n",
       "      <td>0.130455</td>\n",
       "      <td>0.955975</td>\n",
       "      <td>0.391128</td>\n",
       "      <td>0.859375</td>\n",
       "    </tr>\n",
       "  </tbody>\n",
       "</table>\n",
       "</div>"
      ],
      "text/plain": [
       "       loss  accuracy  val_loss  val_accuracy\n",
       "0  1.512404  0.553459  0.984845      0.718750\n",
       "1  0.367206  0.842767  0.342473      0.828125\n",
       "2  0.215768  0.908805  0.484924      0.796875\n",
       "3  0.152109  0.940252  0.449987      0.835938\n",
       "4  0.130455  0.955975  0.391128      0.859375"
      ]
     },
     "execution_count": 53,
     "metadata": {},
     "output_type": "execute_result"
    }
   ],
   "source": [
    "history_df = pd.DataFrame(history.history)\n",
    "history_df.head()"
   ]
  },
  {
   "cell_type": "code",
   "execution_count": 54,
   "id": "461022a0",
   "metadata": {},
   "outputs": [
    {
     "data": {
      "image/png": "[encoded data removed]",
      "text/plain": [
       "<Figure size 640x480 with 1 Axes>"
      ]
     },
     "metadata": {},
     "output_type": "display_data"
    }
   ],
   "source": [
    "plt.figure()\n",
    "plt.plot(history.history[\"accuracy\"])\n",
    "plt.plot(history.history[\"val_accuracy\"])\n",
    "plt.xlabel(\"Epochs\")\n",
    "plt.ylabel(\"Accuracy\")\n",
    "plt.legend([\"train\", \"val\"])\n",
    "plt.show()"
   ]
  },
  {
   "cell_type": "code",
   "execution_count": 55,
   "id": "acff054a",
   "metadata": {},
   "outputs": [
    {
     "data": {
      "image/png": "[encoded data removed]",
      "text/plain": [
       "<Figure size 640x480 with 1 Axes>"
      ]
     },
     "metadata": {},
     "output_type": "display_data"
    }
   ],
   "source": [
    "plt.figure()\n",
    "plt.plot(history.history[\"loss\"])\n",
    "plt.plot(history.history[\"val_loss\"])\n",
    "plt.xlabel(\"Epochs\")\n",
    "plt.ylabel(\"Loss\")\n",
    "plt.legend([\"train\", \"val\"])\n",
    "plt.show()"
   ]
  },
  {
   "cell_type": "code",
   "execution_count": 56,
   "id": "bd178c24",
   "metadata": {},
   "outputs": [],
   "source": [
    "model.save(\"bee.h5\")"
   ]
  },
  {
   "cell_type": "code",
   "execution_count": 58,
   "id": "432328a3",
   "metadata": {},
   "outputs": [
    {
     "name": "stderr",
     "output_type": "stream",
     "text": [
      "2023-06-01 18:56:44.870251: I tensorflow/core/common_runtime/executor.cc:1197] [/device:CPU:0] (DEBUG INFO) Executor start aborting (this does not indicate an error and you can ignore this message): INVALID_ARGUMENT: You must feed a value for placeholder tensor 'Placeholder/_0' with dtype int32\n",
      "\t [[{{node Placeholder/_0}}]]\n"
     ]
    },
    {
     "name": "stdout",
     "output_type": "stream",
     "text": [
      "7/7 [==============================] - 3s 382ms/step - loss: 0.4141 - accuracy: 0.8884\n",
      "Test accuracy: 0.8883720636367798\n"
     ]
    }
   ],
   "source": [
    "test_loss, test_acc = model.evaluate(test_generator)\n",
    "print('Test accuracy:', test_acc)"
   ]
  },
  {
   "cell_type": "code",
   "execution_count": null,
   "id": "8459e1b3",
   "metadata": {},
   "outputs": [],
   "source": []
  }
 ],
 "metadata": {
  "kernelspec": {
   "display_name": "Python 3 (ipykernel)",
   "language": "python",
   "name": "python3"
  },
  "language_info": {
   "codemirror_mode": {
    "name": "ipython",
    "version": 3
   },
   "file_extension": ".py",
   "mimetype": "text/x-python",
   "name": "python",
   "nbconvert_exporter": "python",
   "pygments_lexer": "ipython3",
   "version": "3.11.2"
  }
 },
 "nbformat": 4,
 "nbformat_minor": 5
}
